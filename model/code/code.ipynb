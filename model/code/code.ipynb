{
 "cells": [
  {
   "cell_type": "code",
   "execution_count": 2,
   "id": "667bb8e3",
   "metadata": {},
   "outputs": [],
   "source": [
    "import numpy as np\n",
    "import pandas as pd\n",
    "import matplotlib.pyplot as plt\n",
    "import seaborn as sns \n",
    "import pickle"
   ]
  },
  {
   "cell_type": "code",
   "execution_count": 3,
   "id": "76a07029",
   "metadata": {},
   "outputs": [],
   "source": [
    "data = pd.read_csv('../data/zomato.csv', encoding='latin-1')"
   ]
  },
  {
   "cell_type": "code",
   "execution_count": 4,
   "id": "186b0d0b",
   "metadata": {},
   "outputs": [
    {
     "data": {
      "text/html": [
       "<div>\n",
       "<style scoped>\n",
       "    .dataframe tbody tr th:only-of-type {\n",
       "        vertical-align: middle;\n",
       "    }\n",
       "\n",
       "    .dataframe tbody tr th {\n",
       "        vertical-align: top;\n",
       "    }\n",
       "\n",
       "    .dataframe thead th {\n",
       "        text-align: right;\n",
       "    }\n",
       "</style>\n",
       "<table border=\"1\" class=\"dataframe\">\n",
       "  <thead>\n",
       "    <tr style=\"text-align: right;\">\n",
       "      <th></th>\n",
       "      <th>Restaurant ID</th>\n",
       "      <th>Restaurant_Name</th>\n",
       "      <th>Country_Code</th>\n",
       "      <th>City</th>\n",
       "      <th>Address</th>\n",
       "      <th>Locality</th>\n",
       "      <th>Locality Verbose</th>\n",
       "      <th>Longitude</th>\n",
       "      <th>Latitude</th>\n",
       "      <th>Cuisines</th>\n",
       "      <th>...</th>\n",
       "      <th>Currency</th>\n",
       "      <th>Has Table booking</th>\n",
       "      <th>Has Online delivery</th>\n",
       "      <th>Is delivering now</th>\n",
       "      <th>Switch to order menu</th>\n",
       "      <th>Price range</th>\n",
       "      <th>Aggregate rating</th>\n",
       "      <th>Rating color</th>\n",
       "      <th>Rating text</th>\n",
       "      <th>Votes</th>\n",
       "    </tr>\n",
       "  </thead>\n",
       "  <tbody>\n",
       "    <tr>\n",
       "      <th>0</th>\n",
       "      <td>6317637</td>\n",
       "      <td>Le Petit Souffle</td>\n",
       "      <td>162</td>\n",
       "      <td>Makati City</td>\n",
       "      <td>Third Floor, Century City Mall, Kalayaan Avenu...</td>\n",
       "      <td>Century City Mall, Poblacion, Makati City</td>\n",
       "      <td>Century City Mall, Poblacion, Makati City, Mak...</td>\n",
       "      <td>121.027535</td>\n",
       "      <td>14.565443</td>\n",
       "      <td>French, Japanese, Desserts</td>\n",
       "      <td>...</td>\n",
       "      <td>Botswana Pula(P)</td>\n",
       "      <td>Yes</td>\n",
       "      <td>No</td>\n",
       "      <td>No</td>\n",
       "      <td>No</td>\n",
       "      <td>3</td>\n",
       "      <td>4.8</td>\n",
       "      <td>Dark Green</td>\n",
       "      <td>Excellent</td>\n",
       "      <td>314</td>\n",
       "    </tr>\n",
       "    <tr>\n",
       "      <th>1</th>\n",
       "      <td>6304287</td>\n",
       "      <td>Izakaya Kikufuji</td>\n",
       "      <td>162</td>\n",
       "      <td>Makati City</td>\n",
       "      <td>Little Tokyo, 2277 Chino Roces Avenue, Legaspi...</td>\n",
       "      <td>Little Tokyo, Legaspi Village, Makati City</td>\n",
       "      <td>Little Tokyo, Legaspi Village, Makati City, Ma...</td>\n",
       "      <td>121.014101</td>\n",
       "      <td>14.553708</td>\n",
       "      <td>Japanese</td>\n",
       "      <td>...</td>\n",
       "      <td>Botswana Pula(P)</td>\n",
       "      <td>Yes</td>\n",
       "      <td>No</td>\n",
       "      <td>No</td>\n",
       "      <td>No</td>\n",
       "      <td>3</td>\n",
       "      <td>4.5</td>\n",
       "      <td>Dark Green</td>\n",
       "      <td>Excellent</td>\n",
       "      <td>591</td>\n",
       "    </tr>\n",
       "    <tr>\n",
       "      <th>2</th>\n",
       "      <td>6300002</td>\n",
       "      <td>Heat - Edsa Shangri-La</td>\n",
       "      <td>162</td>\n",
       "      <td>Mandaluyong City</td>\n",
       "      <td>Edsa Shangri-La, 1 Garden Way, Ortigas, Mandal...</td>\n",
       "      <td>Edsa Shangri-La, Ortigas, Mandaluyong City</td>\n",
       "      <td>Edsa Shangri-La, Ortigas, Mandaluyong City, Ma...</td>\n",
       "      <td>121.056831</td>\n",
       "      <td>14.581404</td>\n",
       "      <td>Seafood, Asian, Filipino, Indian</td>\n",
       "      <td>...</td>\n",
       "      <td>Botswana Pula(P)</td>\n",
       "      <td>Yes</td>\n",
       "      <td>No</td>\n",
       "      <td>No</td>\n",
       "      <td>No</td>\n",
       "      <td>4</td>\n",
       "      <td>4.4</td>\n",
       "      <td>Green</td>\n",
       "      <td>Very Good</td>\n",
       "      <td>270</td>\n",
       "    </tr>\n",
       "    <tr>\n",
       "      <th>3</th>\n",
       "      <td>6318506</td>\n",
       "      <td>Ooma</td>\n",
       "      <td>162</td>\n",
       "      <td>Mandaluyong City</td>\n",
       "      <td>Third Floor, Mega Fashion Hall, SM Megamall, O...</td>\n",
       "      <td>SM Megamall, Ortigas, Mandaluyong City</td>\n",
       "      <td>SM Megamall, Ortigas, Mandaluyong City, Mandal...</td>\n",
       "      <td>121.056475</td>\n",
       "      <td>14.585318</td>\n",
       "      <td>Japanese, Sushi</td>\n",
       "      <td>...</td>\n",
       "      <td>Botswana Pula(P)</td>\n",
       "      <td>No</td>\n",
       "      <td>No</td>\n",
       "      <td>No</td>\n",
       "      <td>No</td>\n",
       "      <td>4</td>\n",
       "      <td>4.9</td>\n",
       "      <td>Dark Green</td>\n",
       "      <td>Excellent</td>\n",
       "      <td>365</td>\n",
       "    </tr>\n",
       "    <tr>\n",
       "      <th>4</th>\n",
       "      <td>6314302</td>\n",
       "      <td>Sambo Kojin</td>\n",
       "      <td>162</td>\n",
       "      <td>Mandaluyong City</td>\n",
       "      <td>Third Floor, Mega Atrium, SM Megamall, Ortigas...</td>\n",
       "      <td>SM Megamall, Ortigas, Mandaluyong City</td>\n",
       "      <td>SM Megamall, Ortigas, Mandaluyong City, Mandal...</td>\n",
       "      <td>121.057508</td>\n",
       "      <td>14.584450</td>\n",
       "      <td>Japanese, Korean</td>\n",
       "      <td>...</td>\n",
       "      <td>Botswana Pula(P)</td>\n",
       "      <td>Yes</td>\n",
       "      <td>No</td>\n",
       "      <td>No</td>\n",
       "      <td>No</td>\n",
       "      <td>4</td>\n",
       "      <td>4.8</td>\n",
       "      <td>Dark Green</td>\n",
       "      <td>Excellent</td>\n",
       "      <td>229</td>\n",
       "    </tr>\n",
       "  </tbody>\n",
       "</table>\n",
       "<p>5 rows × 21 columns</p>\n",
       "</div>"
      ],
      "text/plain": [
       "   Restaurant ID         Restaurant_Name  Country_Code              City  \\\n",
       "0        6317637        Le Petit Souffle           162       Makati City   \n",
       "1        6304287        Izakaya Kikufuji           162       Makati City   \n",
       "2        6300002  Heat - Edsa Shangri-La           162  Mandaluyong City   \n",
       "3        6318506                    Ooma           162  Mandaluyong City   \n",
       "4        6314302             Sambo Kojin           162  Mandaluyong City   \n",
       "\n",
       "                                             Address  \\\n",
       "0  Third Floor, Century City Mall, Kalayaan Avenu...   \n",
       "1  Little Tokyo, 2277 Chino Roces Avenue, Legaspi...   \n",
       "2  Edsa Shangri-La, 1 Garden Way, Ortigas, Mandal...   \n",
       "3  Third Floor, Mega Fashion Hall, SM Megamall, O...   \n",
       "4  Third Floor, Mega Atrium, SM Megamall, Ortigas...   \n",
       "\n",
       "                                     Locality  \\\n",
       "0   Century City Mall, Poblacion, Makati City   \n",
       "1  Little Tokyo, Legaspi Village, Makati City   \n",
       "2  Edsa Shangri-La, Ortigas, Mandaluyong City   \n",
       "3      SM Megamall, Ortigas, Mandaluyong City   \n",
       "4      SM Megamall, Ortigas, Mandaluyong City   \n",
       "\n",
       "                                    Locality Verbose   Longitude   Latitude  \\\n",
       "0  Century City Mall, Poblacion, Makati City, Mak...  121.027535  14.565443   \n",
       "1  Little Tokyo, Legaspi Village, Makati City, Ma...  121.014101  14.553708   \n",
       "2  Edsa Shangri-La, Ortigas, Mandaluyong City, Ma...  121.056831  14.581404   \n",
       "3  SM Megamall, Ortigas, Mandaluyong City, Mandal...  121.056475  14.585318   \n",
       "4  SM Megamall, Ortigas, Mandaluyong City, Mandal...  121.057508  14.584450   \n",
       "\n",
       "                           Cuisines  ...          Currency Has Table booking  \\\n",
       "0        French, Japanese, Desserts  ...  Botswana Pula(P)               Yes   \n",
       "1                          Japanese  ...  Botswana Pula(P)               Yes   \n",
       "2  Seafood, Asian, Filipino, Indian  ...  Botswana Pula(P)               Yes   \n",
       "3                   Japanese, Sushi  ...  Botswana Pula(P)                No   \n",
       "4                  Japanese, Korean  ...  Botswana Pula(P)               Yes   \n",
       "\n",
       "  Has Online delivery Is delivering now Switch to order menu Price range  \\\n",
       "0                  No                No                   No           3   \n",
       "1                  No                No                   No           3   \n",
       "2                  No                No                   No           4   \n",
       "3                  No                No                   No           4   \n",
       "4                  No                No                   No           4   \n",
       "\n",
       "   Aggregate rating  Rating color Rating text Votes  \n",
       "0               4.8    Dark Green   Excellent   314  \n",
       "1               4.5    Dark Green   Excellent   591  \n",
       "2               4.4         Green   Very Good   270  \n",
       "3               4.9    Dark Green   Excellent   365  \n",
       "4               4.8    Dark Green   Excellent   229  \n",
       "\n",
       "[5 rows x 21 columns]"
      ]
     },
     "execution_count": 4,
     "metadata": {},
     "output_type": "execute_result"
    }
   ],
   "source": [
    "data.head()"
   ]
  },
  {
   "cell_type": "code",
   "execution_count": 5,
   "id": "9c4a0ba2",
   "metadata": {},
   "outputs": [
    {
     "data": {
      "text/plain": [
       "Index(['Restaurant ID', 'Restaurant_Name', 'Country_Code', 'City', 'Address',\n",
       "       'Locality', 'Locality Verbose', 'Longitude', 'Latitude', 'Cuisines',\n",
       "       'Average Cost for two', 'Currency', 'Has Table booking',\n",
       "       'Has Online delivery', 'Is delivering now', 'Switch to order menu',\n",
       "       'Price range', 'Aggregate rating', 'Rating color', 'Rating text',\n",
       "       'Votes'],\n",
       "      dtype='object')"
      ]
     },
     "execution_count": 5,
     "metadata": {},
     "output_type": "execute_result"
    }
   ],
   "source": [
    "data.columns"
   ]
  },
  {
   "cell_type": "code",
   "execution_count": 6,
   "id": "3204721d",
   "metadata": {},
   "outputs": [],
   "source": [
    "data.drop(columns = ['Restaurant ID', 'Restaurant_Name', 'Address', 'Locality Verbose', 'Longitude', 'Latitude', 'Has Online delivery', 'Switch to order menu', 'Rating color', 'Rating text'], inplace = True)"
   ]
  },
  {
   "cell_type": "code",
   "execution_count": 7,
   "id": "358a758e",
   "metadata": {},
   "outputs": [
    {
     "data": {
      "text/plain": [
       "Index(['Country_Code', 'City', 'Locality', 'Cuisines', 'Average Cost for two',\n",
       "       'Currency', 'Has Table booking', 'Is delivering now', 'Price range',\n",
       "       'Aggregate rating', 'Votes'],\n",
       "      dtype='object')"
      ]
     },
     "execution_count": 7,
     "metadata": {},
     "output_type": "execute_result"
    }
   ],
   "source": [
    "data.columns"
   ]
  },
  {
   "cell_type": "code",
   "execution_count": 8,
   "id": "946e13b9",
   "metadata": {},
   "outputs": [],
   "source": [
    "def func(x):\n",
    "    return x.split(\"(\")[0]\n",
    "\n",
    "data['Currency'] = data['Currency'].map(func)"
   ]
  },
  {
   "cell_type": "code",
   "execution_count": 9,
   "id": "2dcfee4e",
   "metadata": {},
   "outputs": [
    {
     "data": {
      "text/html": [
       "<div>\n",
       "<style scoped>\n",
       "    .dataframe tbody tr th:only-of-type {\n",
       "        vertical-align: middle;\n",
       "    }\n",
       "\n",
       "    .dataframe tbody tr th {\n",
       "        vertical-align: top;\n",
       "    }\n",
       "\n",
       "    .dataframe thead th {\n",
       "        text-align: right;\n",
       "    }\n",
       "</style>\n",
       "<table border=\"1\" class=\"dataframe\">\n",
       "  <thead>\n",
       "    <tr style=\"text-align: right;\">\n",
       "      <th></th>\n",
       "      <th>Country_Code</th>\n",
       "      <th>City</th>\n",
       "      <th>Locality</th>\n",
       "      <th>Cuisines</th>\n",
       "      <th>Average Cost for two</th>\n",
       "      <th>Currency</th>\n",
       "      <th>Has Table booking</th>\n",
       "      <th>Is delivering now</th>\n",
       "      <th>Price range</th>\n",
       "      <th>Aggregate rating</th>\n",
       "      <th>Votes</th>\n",
       "    </tr>\n",
       "  </thead>\n",
       "  <tbody>\n",
       "    <tr>\n",
       "      <th>0</th>\n",
       "      <td>162</td>\n",
       "      <td>Makati City</td>\n",
       "      <td>Century City Mall, Poblacion, Makati City</td>\n",
       "      <td>French, Japanese, Desserts</td>\n",
       "      <td>1100</td>\n",
       "      <td>Botswana Pula</td>\n",
       "      <td>Yes</td>\n",
       "      <td>No</td>\n",
       "      <td>3</td>\n",
       "      <td>4.8</td>\n",
       "      <td>314</td>\n",
       "    </tr>\n",
       "    <tr>\n",
       "      <th>1</th>\n",
       "      <td>162</td>\n",
       "      <td>Makati City</td>\n",
       "      <td>Little Tokyo, Legaspi Village, Makati City</td>\n",
       "      <td>Japanese</td>\n",
       "      <td>1200</td>\n",
       "      <td>Botswana Pula</td>\n",
       "      <td>Yes</td>\n",
       "      <td>No</td>\n",
       "      <td>3</td>\n",
       "      <td>4.5</td>\n",
       "      <td>591</td>\n",
       "    </tr>\n",
       "    <tr>\n",
       "      <th>2</th>\n",
       "      <td>162</td>\n",
       "      <td>Mandaluyong City</td>\n",
       "      <td>Edsa Shangri-La, Ortigas, Mandaluyong City</td>\n",
       "      <td>Seafood, Asian, Filipino, Indian</td>\n",
       "      <td>4000</td>\n",
       "      <td>Botswana Pula</td>\n",
       "      <td>Yes</td>\n",
       "      <td>No</td>\n",
       "      <td>4</td>\n",
       "      <td>4.4</td>\n",
       "      <td>270</td>\n",
       "    </tr>\n",
       "    <tr>\n",
       "      <th>3</th>\n",
       "      <td>162</td>\n",
       "      <td>Mandaluyong City</td>\n",
       "      <td>SM Megamall, Ortigas, Mandaluyong City</td>\n",
       "      <td>Japanese, Sushi</td>\n",
       "      <td>1500</td>\n",
       "      <td>Botswana Pula</td>\n",
       "      <td>No</td>\n",
       "      <td>No</td>\n",
       "      <td>4</td>\n",
       "      <td>4.9</td>\n",
       "      <td>365</td>\n",
       "    </tr>\n",
       "    <tr>\n",
       "      <th>4</th>\n",
       "      <td>162</td>\n",
       "      <td>Mandaluyong City</td>\n",
       "      <td>SM Megamall, Ortigas, Mandaluyong City</td>\n",
       "      <td>Japanese, Korean</td>\n",
       "      <td>1500</td>\n",
       "      <td>Botswana Pula</td>\n",
       "      <td>Yes</td>\n",
       "      <td>No</td>\n",
       "      <td>4</td>\n",
       "      <td>4.8</td>\n",
       "      <td>229</td>\n",
       "    </tr>\n",
       "  </tbody>\n",
       "</table>\n",
       "</div>"
      ],
      "text/plain": [
       "   Country_Code              City                                    Locality  \\\n",
       "0           162       Makati City   Century City Mall, Poblacion, Makati City   \n",
       "1           162       Makati City  Little Tokyo, Legaspi Village, Makati City   \n",
       "2           162  Mandaluyong City  Edsa Shangri-La, Ortigas, Mandaluyong City   \n",
       "3           162  Mandaluyong City      SM Megamall, Ortigas, Mandaluyong City   \n",
       "4           162  Mandaluyong City      SM Megamall, Ortigas, Mandaluyong City   \n",
       "\n",
       "                           Cuisines  Average Cost for two       Currency  \\\n",
       "0        French, Japanese, Desserts                  1100  Botswana Pula   \n",
       "1                          Japanese                  1200  Botswana Pula   \n",
       "2  Seafood, Asian, Filipino, Indian                  4000  Botswana Pula   \n",
       "3                   Japanese, Sushi                  1500  Botswana Pula   \n",
       "4                  Japanese, Korean                  1500  Botswana Pula   \n",
       "\n",
       "  Has Table booking Is delivering now  Price range  Aggregate rating  Votes  \n",
       "0               Yes                No            3               4.8    314  \n",
       "1               Yes                No            3               4.5    591  \n",
       "2               Yes                No            4               4.4    270  \n",
       "3                No                No            4               4.9    365  \n",
       "4               Yes                No            4               4.8    229  "
      ]
     },
     "execution_count": 9,
     "metadata": {},
     "output_type": "execute_result"
    }
   ],
   "source": [
    "data.head()"
   ]
  },
  {
   "cell_type": "code",
   "execution_count": 10,
   "id": "baf33af5",
   "metadata": {},
   "outputs": [
    {
     "data": {
      "text/plain": [
       "array([162,  30, 216,  14,  37, 184, 214,   1,  94, 148, 215, 166, 189,\n",
       "       191, 208], dtype=int64)"
      ]
     },
     "execution_count": 10,
     "metadata": {},
     "output_type": "execute_result"
    }
   ],
   "source": [
    "data['Country_Code'].unique()"
   ]
  },
  {
   "cell_type": "code",
   "execution_count": 11,
   "id": "7376a954",
   "metadata": {},
   "outputs": [
    {
     "data": {
      "text/plain": [
       "Indian Rupees        8652\n",
       "Dollar                482\n",
       "Pounds                 80\n",
       "Brazilian Real         60\n",
       "Emirati Diram          60\n",
       "Rand                   60\n",
       "NewZealand             40\n",
       "Turkish Lira           34\n",
       "Botswana Pula          22\n",
       "Indonesian Rupiah      21\n",
       "Qatari Rial            20\n",
       "Sri Lankan Rupee       20\n",
       "Name: Currency, dtype: int64"
      ]
     },
     "execution_count": 11,
     "metadata": {},
     "output_type": "execute_result"
    }
   ],
   "source": [
    "data['Currency'].value_counts()"
   ]
  },
  {
   "cell_type": "code",
   "execution_count": 12,
   "id": "d9834418",
   "metadata": {},
   "outputs": [
    {
     "data": {
      "text/plain": [
       "Country_Code            0\n",
       "City                    0\n",
       "Locality                0\n",
       "Cuisines                9\n",
       "Average Cost for two    0\n",
       "Currency                0\n",
       "Has Table booking       0\n",
       "Is delivering now       0\n",
       "Price range             0\n",
       "Aggregate rating        0\n",
       "Votes                   0\n",
       "dtype: int64"
      ]
     },
     "execution_count": 12,
     "metadata": {},
     "output_type": "execute_result"
    }
   ],
   "source": [
    "data.isnull().sum()"
   ]
  },
  {
   "cell_type": "code",
   "execution_count": 13,
   "id": "b6521a76",
   "metadata": {},
   "outputs": [],
   "source": [
    "data['Cuisines'].fillna(data['Cuisines'].mode()[0], inplace = True)"
   ]
  },
  {
   "cell_type": "code",
   "execution_count": 14,
   "id": "b75e88ac",
   "metadata": {},
   "outputs": [
    {
     "data": {
      "text/plain": [
       "Country_Code            0\n",
       "City                    0\n",
       "Locality                0\n",
       "Cuisines                0\n",
       "Average Cost for two    0\n",
       "Currency                0\n",
       "Has Table booking       0\n",
       "Is delivering now       0\n",
       "Price range             0\n",
       "Aggregate rating        0\n",
       "Votes                   0\n",
       "dtype: int64"
      ]
     },
     "execution_count": 14,
     "metadata": {},
     "output_type": "execute_result"
    }
   ],
   "source": [
    "data.isnull().sum()"
   ]
  },
  {
   "cell_type": "code",
   "execution_count": 15,
   "id": "5106d313",
   "metadata": {},
   "outputs": [],
   "source": [
    "country = {\n",
    "    \"Philippines\": 162,\n",
    "    \"Brazil\": 30,\n",
    "    \"United States\": 216,\n",
    "    \"Australia\": 14,\n",
    "    \"Canada\": 37,\n",
    "    \"Singapore\": 184,\n",
    "    \"UAE\": 214,\n",
    "    \"India\": 1,\n",
    "    \"Indonesia\": 94,\n",
    "    \"New Zealand\": 148,\n",
    "    \"England\": 215,\n",
    "    \"Qatar\": 166,\n",
    "    \"South Africa\": 189,\n",
    "    \"Sri Lanka\": 191,\n",
    "    \"Turkey\": 208\n",
    "}\n"
   ]
  },
  {
   "cell_type": "code",
   "execution_count": 16,
   "id": "49171cd7",
   "metadata": {},
   "outputs": [],
   "source": [
    "currency_values = {\n",
    "    'Botswana Pula': 0.090,\n",
    "    'Brazilian Real': 0.20,\n",
    "    'Dollar': 1.00,\n",
    "    'Emirati Dirham': 0.27,\n",
    "    'Emirati Diram': 0.27,\n",
    "    'Indian Rupees': 0.014,\n",
    "    'Indonesian Rupiah': 0.000071,\n",
    "    'NewZealand': 0.70,\n",
    "    'Pounds': 1.39,\n",
    "    'Qatari Rial': 0.27,\n",
    "    'Rand': 0.070,\n",
    "    'Sri Lankan Rupee': 0.0050,\n",
    "    'Turkish Lira': 0.12\n",
    "}"
   ]
  },
  {
   "cell_type": "code",
   "execution_count": 17,
   "id": "5ba10dce",
   "metadata": {},
   "outputs": [],
   "source": [
    "data['Currency'] = data['Currency'].map(currency_values)"
   ]
  },
  {
   "cell_type": "code",
   "execution_count": 18,
   "id": "d5cb5a9b",
   "metadata": {},
   "outputs": [
    {
     "data": {
      "text/plain": [
       "Country_Code            0\n",
       "City                    0\n",
       "Locality                0\n",
       "Cuisines                0\n",
       "Average Cost for two    0\n",
       "Currency                0\n",
       "Has Table booking       0\n",
       "Is delivering now       0\n",
       "Price range             0\n",
       "Aggregate rating        0\n",
       "Votes                   0\n",
       "dtype: int64"
      ]
     },
     "execution_count": 18,
     "metadata": {},
     "output_type": "execute_result"
    }
   ],
   "source": [
    "data.isnull().sum()"
   ]
  },
  {
   "cell_type": "code",
   "execution_count": 19,
   "id": "cfcea8a8",
   "metadata": {},
   "outputs": [],
   "source": [
    "data['Cost'] = data['Currency'] * data['Average Cost for two']"
   ]
  },
  {
   "cell_type": "code",
   "execution_count": 20,
   "id": "8a874a00",
   "metadata": {},
   "outputs": [
    {
     "data": {
      "text/html": [
       "<div>\n",
       "<style scoped>\n",
       "    .dataframe tbody tr th:only-of-type {\n",
       "        vertical-align: middle;\n",
       "    }\n",
       "\n",
       "    .dataframe tbody tr th {\n",
       "        vertical-align: top;\n",
       "    }\n",
       "\n",
       "    .dataframe thead th {\n",
       "        text-align: right;\n",
       "    }\n",
       "</style>\n",
       "<table border=\"1\" class=\"dataframe\">\n",
       "  <thead>\n",
       "    <tr style=\"text-align: right;\">\n",
       "      <th></th>\n",
       "      <th>Country_Code</th>\n",
       "      <th>City</th>\n",
       "      <th>Locality</th>\n",
       "      <th>Cuisines</th>\n",
       "      <th>Average Cost for two</th>\n",
       "      <th>Currency</th>\n",
       "      <th>Has Table booking</th>\n",
       "      <th>Is delivering now</th>\n",
       "      <th>Price range</th>\n",
       "      <th>Aggregate rating</th>\n",
       "      <th>Votes</th>\n",
       "      <th>Cost</th>\n",
       "    </tr>\n",
       "  </thead>\n",
       "  <tbody>\n",
       "    <tr>\n",
       "      <th>0</th>\n",
       "      <td>162</td>\n",
       "      <td>Makati City</td>\n",
       "      <td>Century City Mall, Poblacion, Makati City</td>\n",
       "      <td>French, Japanese, Desserts</td>\n",
       "      <td>1100</td>\n",
       "      <td>0.09</td>\n",
       "      <td>Yes</td>\n",
       "      <td>No</td>\n",
       "      <td>3</td>\n",
       "      <td>4.8</td>\n",
       "      <td>314</td>\n",
       "      <td>99.0</td>\n",
       "    </tr>\n",
       "    <tr>\n",
       "      <th>1</th>\n",
       "      <td>162</td>\n",
       "      <td>Makati City</td>\n",
       "      <td>Little Tokyo, Legaspi Village, Makati City</td>\n",
       "      <td>Japanese</td>\n",
       "      <td>1200</td>\n",
       "      <td>0.09</td>\n",
       "      <td>Yes</td>\n",
       "      <td>No</td>\n",
       "      <td>3</td>\n",
       "      <td>4.5</td>\n",
       "      <td>591</td>\n",
       "      <td>108.0</td>\n",
       "    </tr>\n",
       "    <tr>\n",
       "      <th>2</th>\n",
       "      <td>162</td>\n",
       "      <td>Mandaluyong City</td>\n",
       "      <td>Edsa Shangri-La, Ortigas, Mandaluyong City</td>\n",
       "      <td>Seafood, Asian, Filipino, Indian</td>\n",
       "      <td>4000</td>\n",
       "      <td>0.09</td>\n",
       "      <td>Yes</td>\n",
       "      <td>No</td>\n",
       "      <td>4</td>\n",
       "      <td>4.4</td>\n",
       "      <td>270</td>\n",
       "      <td>360.0</td>\n",
       "    </tr>\n",
       "    <tr>\n",
       "      <th>3</th>\n",
       "      <td>162</td>\n",
       "      <td>Mandaluyong City</td>\n",
       "      <td>SM Megamall, Ortigas, Mandaluyong City</td>\n",
       "      <td>Japanese, Sushi</td>\n",
       "      <td>1500</td>\n",
       "      <td>0.09</td>\n",
       "      <td>No</td>\n",
       "      <td>No</td>\n",
       "      <td>4</td>\n",
       "      <td>4.9</td>\n",
       "      <td>365</td>\n",
       "      <td>135.0</td>\n",
       "    </tr>\n",
       "    <tr>\n",
       "      <th>4</th>\n",
       "      <td>162</td>\n",
       "      <td>Mandaluyong City</td>\n",
       "      <td>SM Megamall, Ortigas, Mandaluyong City</td>\n",
       "      <td>Japanese, Korean</td>\n",
       "      <td>1500</td>\n",
       "      <td>0.09</td>\n",
       "      <td>Yes</td>\n",
       "      <td>No</td>\n",
       "      <td>4</td>\n",
       "      <td>4.8</td>\n",
       "      <td>229</td>\n",
       "      <td>135.0</td>\n",
       "    </tr>\n",
       "  </tbody>\n",
       "</table>\n",
       "</div>"
      ],
      "text/plain": [
       "   Country_Code              City                                    Locality  \\\n",
       "0           162       Makati City   Century City Mall, Poblacion, Makati City   \n",
       "1           162       Makati City  Little Tokyo, Legaspi Village, Makati City   \n",
       "2           162  Mandaluyong City  Edsa Shangri-La, Ortigas, Mandaluyong City   \n",
       "3           162  Mandaluyong City      SM Megamall, Ortigas, Mandaluyong City   \n",
       "4           162  Mandaluyong City      SM Megamall, Ortigas, Mandaluyong City   \n",
       "\n",
       "                           Cuisines  Average Cost for two  Currency  \\\n",
       "0        French, Japanese, Desserts                  1100      0.09   \n",
       "1                          Japanese                  1200      0.09   \n",
       "2  Seafood, Asian, Filipino, Indian                  4000      0.09   \n",
       "3                   Japanese, Sushi                  1500      0.09   \n",
       "4                  Japanese, Korean                  1500      0.09   \n",
       "\n",
       "  Has Table booking Is delivering now  Price range  Aggregate rating  Votes  \\\n",
       "0               Yes                No            3               4.8    314   \n",
       "1               Yes                No            3               4.5    591   \n",
       "2               Yes                No            4               4.4    270   \n",
       "3                No                No            4               4.9    365   \n",
       "4               Yes                No            4               4.8    229   \n",
       "\n",
       "    Cost  \n",
       "0   99.0  \n",
       "1  108.0  \n",
       "2  360.0  \n",
       "3  135.0  \n",
       "4  135.0  "
      ]
     },
     "execution_count": 20,
     "metadata": {},
     "output_type": "execute_result"
    }
   ],
   "source": [
    "data.head()"
   ]
  },
  {
   "cell_type": "code",
   "execution_count": 21,
   "id": "be3754bb",
   "metadata": {},
   "outputs": [],
   "source": [
    "data.drop(columns = ['Average Cost for two', 'Currency'], inplace = True)"
   ]
  },
  {
   "cell_type": "code",
   "execution_count": 22,
   "id": "bd5ebb85",
   "metadata": {},
   "outputs": [
    {
     "data": {
      "text/plain": [
       "Index(['Country_Code', 'City', 'Locality', 'Cuisines', 'Has Table booking',\n",
       "       'Is delivering now', 'Price range', 'Aggregate rating', 'Votes',\n",
       "       'Cost'],\n",
       "      dtype='object')"
      ]
     },
     "execution_count": 22,
     "metadata": {},
     "output_type": "execute_result"
    }
   ],
   "source": [
    "data.columns"
   ]
  },
  {
   "cell_type": "code",
   "execution_count": 23,
   "id": "0b01f325",
   "metadata": {},
   "outputs": [],
   "source": [
    "from sklearn.preprocessing import LabelEncoder"
   ]
  },
  {
   "cell_type": "code",
   "execution_count": 24,
   "id": "dbb36ba7",
   "metadata": {},
   "outputs": [],
   "source": [
    "le = LabelEncoder()"
   ]
  },
  {
   "cell_type": "code",
   "execution_count": 25,
   "id": "29db912f",
   "metadata": {},
   "outputs": [],
   "source": [
    "data['Has Table booking'] = le.fit_transform(data['Has Table booking'])\n",
    "data['Is delivering now'] = le.fit_transform(data['Is delivering now'])"
   ]
  },
  {
   "cell_type": "code",
   "execution_count": 26,
   "id": "d6669dca",
   "metadata": {},
   "outputs": [
    {
     "data": {
      "text/plain": [
       "0    9517\n",
       "1      34\n",
       "Name: Is delivering now, dtype: int64"
      ]
     },
     "execution_count": 26,
     "metadata": {},
     "output_type": "execute_result"
    }
   ],
   "source": [
    "data['Is delivering now'].value_counts()"
   ]
  },
  {
   "cell_type": "code",
   "execution_count": 27,
   "id": "c5ab6400",
   "metadata": {},
   "outputs": [
    {
     "data": {
      "text/plain": [
       "0    8393\n",
       "1    1158\n",
       "Name: Has Table booking, dtype: int64"
      ]
     },
     "execution_count": 27,
     "metadata": {},
     "output_type": "execute_result"
    }
   ],
   "source": [
    "data['Has Table booking'].value_counts()"
   ]
  },
  {
   "cell_type": "code",
   "execution_count": 28,
   "id": "a224f393",
   "metadata": {},
   "outputs": [
    {
     "name": "stdout",
     "output_type": "stream",
     "text": [
      "<class 'pandas.core.frame.DataFrame'>\n",
      "RangeIndex: 9551 entries, 0 to 9550\n",
      "Data columns (total 10 columns):\n",
      " #   Column             Non-Null Count  Dtype  \n",
      "---  ------             --------------  -----  \n",
      " 0   Country_Code       9551 non-null   int64  \n",
      " 1   City               9551 non-null   object \n",
      " 2   Locality           9551 non-null   object \n",
      " 3   Cuisines           9551 non-null   object \n",
      " 4   Has Table booking  9551 non-null   int32  \n",
      " 5   Is delivering now  9551 non-null   int32  \n",
      " 6   Price range        9551 non-null   int64  \n",
      " 7   Aggregate rating   9551 non-null   float64\n",
      " 8   Votes              9551 non-null   int64  \n",
      " 9   Cost               9551 non-null   float64\n",
      "dtypes: float64(2), int32(2), int64(3), object(3)\n",
      "memory usage: 671.7+ KB\n"
     ]
    }
   ],
   "source": [
    "data.info()"
   ]
  },
  {
   "cell_type": "code",
   "execution_count": 29,
   "id": "b987f161",
   "metadata": {},
   "outputs": [
    {
     "data": {
      "text/html": [
       "<div>\n",
       "<style scoped>\n",
       "    .dataframe tbody tr th:only-of-type {\n",
       "        vertical-align: middle;\n",
       "    }\n",
       "\n",
       "    .dataframe tbody tr th {\n",
       "        vertical-align: top;\n",
       "    }\n",
       "\n",
       "    .dataframe thead th {\n",
       "        text-align: right;\n",
       "    }\n",
       "</style>\n",
       "<table border=\"1\" class=\"dataframe\">\n",
       "  <thead>\n",
       "    <tr style=\"text-align: right;\">\n",
       "      <th></th>\n",
       "      <th>Country_Code</th>\n",
       "      <th>City</th>\n",
       "      <th>Locality</th>\n",
       "      <th>Cuisines</th>\n",
       "      <th>Has Table booking</th>\n",
       "      <th>Is delivering now</th>\n",
       "      <th>Price range</th>\n",
       "      <th>Aggregate rating</th>\n",
       "      <th>Votes</th>\n",
       "      <th>Cost</th>\n",
       "    </tr>\n",
       "  </thead>\n",
       "  <tbody>\n",
       "    <tr>\n",
       "      <th>0</th>\n",
       "      <td>162</td>\n",
       "      <td>Makati City</td>\n",
       "      <td>Century City Mall, Poblacion, Makati City</td>\n",
       "      <td>French, Japanese, Desserts</td>\n",
       "      <td>1</td>\n",
       "      <td>0</td>\n",
       "      <td>3</td>\n",
       "      <td>4.8</td>\n",
       "      <td>314</td>\n",
       "      <td>99.0</td>\n",
       "    </tr>\n",
       "    <tr>\n",
       "      <th>1</th>\n",
       "      <td>162</td>\n",
       "      <td>Makati City</td>\n",
       "      <td>Little Tokyo, Legaspi Village, Makati City</td>\n",
       "      <td>Japanese</td>\n",
       "      <td>1</td>\n",
       "      <td>0</td>\n",
       "      <td>3</td>\n",
       "      <td>4.5</td>\n",
       "      <td>591</td>\n",
       "      <td>108.0</td>\n",
       "    </tr>\n",
       "    <tr>\n",
       "      <th>2</th>\n",
       "      <td>162</td>\n",
       "      <td>Mandaluyong City</td>\n",
       "      <td>Edsa Shangri-La, Ortigas, Mandaluyong City</td>\n",
       "      <td>Seafood, Asian, Filipino, Indian</td>\n",
       "      <td>1</td>\n",
       "      <td>0</td>\n",
       "      <td>4</td>\n",
       "      <td>4.4</td>\n",
       "      <td>270</td>\n",
       "      <td>360.0</td>\n",
       "    </tr>\n",
       "    <tr>\n",
       "      <th>3</th>\n",
       "      <td>162</td>\n",
       "      <td>Mandaluyong City</td>\n",
       "      <td>SM Megamall, Ortigas, Mandaluyong City</td>\n",
       "      <td>Japanese, Sushi</td>\n",
       "      <td>0</td>\n",
       "      <td>0</td>\n",
       "      <td>4</td>\n",
       "      <td>4.9</td>\n",
       "      <td>365</td>\n",
       "      <td>135.0</td>\n",
       "    </tr>\n",
       "    <tr>\n",
       "      <th>4</th>\n",
       "      <td>162</td>\n",
       "      <td>Mandaluyong City</td>\n",
       "      <td>SM Megamall, Ortigas, Mandaluyong City</td>\n",
       "      <td>Japanese, Korean</td>\n",
       "      <td>1</td>\n",
       "      <td>0</td>\n",
       "      <td>4</td>\n",
       "      <td>4.8</td>\n",
       "      <td>229</td>\n",
       "      <td>135.0</td>\n",
       "    </tr>\n",
       "  </tbody>\n",
       "</table>\n",
       "</div>"
      ],
      "text/plain": [
       "   Country_Code              City                                    Locality  \\\n",
       "0           162       Makati City   Century City Mall, Poblacion, Makati City   \n",
       "1           162       Makati City  Little Tokyo, Legaspi Village, Makati City   \n",
       "2           162  Mandaluyong City  Edsa Shangri-La, Ortigas, Mandaluyong City   \n",
       "3           162  Mandaluyong City      SM Megamall, Ortigas, Mandaluyong City   \n",
       "4           162  Mandaluyong City      SM Megamall, Ortigas, Mandaluyong City   \n",
       "\n",
       "                           Cuisines  Has Table booking  Is delivering now  \\\n",
       "0        French, Japanese, Desserts                  1                  0   \n",
       "1                          Japanese                  1                  0   \n",
       "2  Seafood, Asian, Filipino, Indian                  1                  0   \n",
       "3                   Japanese, Sushi                  0                  0   \n",
       "4                  Japanese, Korean                  1                  0   \n",
       "\n",
       "   Price range  Aggregate rating  Votes   Cost  \n",
       "0            3               4.8    314   99.0  \n",
       "1            3               4.5    591  108.0  \n",
       "2            4               4.4    270  360.0  \n",
       "3            4               4.9    365  135.0  \n",
       "4            4               4.8    229  135.0  "
      ]
     },
     "execution_count": 29,
     "metadata": {},
     "output_type": "execute_result"
    }
   ],
   "source": [
    "data.head()"
   ]
  },
  {
   "cell_type": "code",
   "execution_count": 43,
   "id": "1a77adce",
   "metadata": {},
   "outputs": [
    {
     "data": {
      "image/png": "[encoded data removed]",
      "text/plain": [
       "<Figure size 432x288 with 1 Axes>"
      ]
     },
     "metadata": {
      "needs_background": "light"
     },
     "output_type": "display_data"
    }
   ],
   "source": [
    "city = \"City\"\n",
    "city_count = data[city].value_counts()\n",
    "\n",
    "top_10_cities = city_count.nlargest(10)\n",
    "\n",
    "#plt.figure(figsize=(100, 60))\n",
    "\n",
    "plt.bar(top_10_cities.index, top_10_cities.values)\n",
    "\n",
    "\n",
    "plt.xlabel(city)\n",
    "plt.ylabel('Count')\n",
    "plt.title('Bar Plot of top 10 ' + city + ' vs Count')\n",
    "\n",
    "\n",
    "\n",
    "# Rotate x-axis labels if needed\n",
    "plt.xticks(rotation=90)\n",
    "\n",
    "plt.tight_layout()\n",
    "\n",
    "# Show the plot\n",
    "plt.show()\n"
   ]
  },
  {
   "cell_type": "code",
   "execution_count": 44,
   "id": "041d624c",
   "metadata": {},
   "outputs": [
    {
     "data": {
      "image/png": "[encoded data removed]",
      "text/plain": [
       "<Figure size 432x288 with 1 Axes>"
      ]
     },
     "metadata": {
      "needs_background": "light"
     },
     "output_type": "display_data"
    }
   ],
   "source": [
    "column_name = 'Cost'\n",
    "\n",
    "# Create the box plot\n",
    "plt.boxplot(data[column_name])\n",
    "\n",
    "# Set labels and title\n",
    "plt.xlabel(column_name)\n",
    "plt.ylabel('Cost')\n",
    "plt.title('Box Plot of ' + column_name)\n",
    "\n",
    "# Show the plot\n",
    "plt.show()"
   ]
  },
  {
   "cell_type": "code",
   "execution_count": 45,
   "id": "dddd13b7",
   "metadata": {},
   "outputs": [
    {
     "data": {
      "image/png": "[encoded data removed]",
      "text/plain": [
       "<Figure size 432x288 with 1 Axes>"
      ]
     },
     "metadata": {
      "needs_background": "light"
     },
     "output_type": "display_data"
    }
   ],
   "source": [
    "plt.scatter(data['Aggregate rating'], data['Votes'])\n",
    "\n",
    "# Set labels and title\n",
    "plt.xlabel('Aggregate Rating')\n",
    "plt.ylabel('Votes')\n",
    "plt.title('Scatter Plot: Aggregate Rating vs Votes')\n",
    "\n",
    "# Show the plot\n",
    "plt.show()"
   ]
  },
  {
   "cell_type": "code",
   "execution_count": 48,
   "id": "986bfa24",
   "metadata": {},
   "outputs": [
    {
     "data": {
      "image/png": "[encoded data removed]",
      "text/plain": [
       "<Figure size 432x288 with 1 Axes>"
      ]
     },
     "metadata": {
      "needs_background": "light"
     },
     "output_type": "display_data"
    }
   ],
   "source": [
    "plt.hist(data['Aggregate rating'], bins=10)\n",
    "\n",
    "# Set labels and title\n",
    "plt.xlabel('Aggregate Rating')\n",
    "plt.ylabel('Frequency')\n",
    "plt.title('Histogram: Aggregate Rating Distribution')\n",
    "\n",
    "# Show the plot\n",
    "plt.show()"
   ]
  },
  {
   "cell_type": "code",
   "execution_count": 29,
   "id": "3a7df954",
   "metadata": {},
   "outputs": [],
   "source": [
    "country_code = data['Country_Code'].unique()"
   ]
  },
  {
   "cell_type": "code",
   "execution_count": 30,
   "id": "1474a398",
   "metadata": {},
   "outputs": [
    {
     "data": {
      "text/plain": [
       "array([162,  30, 216,  14,  37, 184, 214,   1,  94, 148, 215, 166, 189,\n",
       "       191, 208], dtype=int64)"
      ]
     },
     "execution_count": 30,
     "metadata": {},
     "output_type": "execute_result"
    }
   ],
   "source": [
    "country_code"
   ]
  },
  {
   "cell_type": "code",
   "execution_count": 31,
   "id": "2172f0ce",
   "metadata": {},
   "outputs": [
    {
     "data": {
      "text/plain": [
       "'code_mapping= {}\\nidx = 0\\n\\nfor i in country_code:\\n    code_mapping[i] = idx\\n    idx += 1'"
      ]
     },
     "execution_count": 31,
     "metadata": {},
     "output_type": "execute_result"
    }
   ],
   "source": [
    "\"\"\"code_mapping= {}\n",
    "idx = 0\n",
    "\n",
    "for i in country_code:\n",
    "    code_mapping[i] = idx\n",
    "    idx += 1\"\"\""
   ]
  },
  {
   "cell_type": "code",
   "execution_count": 32,
   "id": "6d0d3fb2",
   "metadata": {},
   "outputs": [
    {
     "data": {
      "text/plain": [
       "'for i in country:\\n    country[i] = code_mapping[country[i]]'"
      ]
     },
     "execution_count": 32,
     "metadata": {},
     "output_type": "execute_result"
    }
   ],
   "source": [
    "country_city = {}\n",
    "\n",
    "\"\"\"for i in country:\n",
    "    country[i] = code_mapping[country[i]]\"\"\""
   ]
  },
  {
   "cell_type": "code",
   "execution_count": 33,
   "id": "80280d2c",
   "metadata": {},
   "outputs": [],
   "source": [
    "#data['Country_Code'] = data['Country_Code'].map(code_mapping)"
   ]
  },
  {
   "cell_type": "code",
   "execution_count": 34,
   "id": "5302dde1",
   "metadata": {},
   "outputs": [],
   "source": [
    "for i in country:\n",
    "    country_city[i] = data[data['Country_Code'] == country[i]]['City'].unique().tolist()"
   ]
  },
  {
   "cell_type": "code",
   "execution_count": 35,
   "id": "95552568",
   "metadata": {},
   "outputs": [],
   "source": [
    "with open('../countryCity.pkl','wb') as file:\n",
    "    pickle.dump(country_city, file)"
   ]
  },
  {
   "cell_type": "code",
   "execution_count": 36,
   "id": "d82b311f",
   "metadata": {},
   "outputs": [],
   "source": [
    "with open('../countryCode.pkl', 'wb') as file:\n",
    "    pickle.dump(country, file)"
   ]
  },
  {
   "cell_type": "code",
   "execution_count": 37,
   "id": "86741f7f",
   "metadata": {},
   "outputs": [],
   "source": [
    "city_locality = {}"
   ]
  },
  {
   "cell_type": "code",
   "execution_count": 38,
   "id": "30a75a7e",
   "metadata": {},
   "outputs": [],
   "source": [
    "for i in data['City'].unique():\n",
    "    city_locality[i] = data[data['City'] == i]['Locality'].unique().tolist()"
   ]
  },
  {
   "cell_type": "code",
   "execution_count": 39,
   "id": "2f04743d",
   "metadata": {},
   "outputs": [],
   "source": [
    "with open('../cityLocality.pkl', 'wb') as file:\n",
    "    pickle.dump(city_locality, file)"
   ]
  },
  {
   "cell_type": "code",
   "execution_count": 40,
   "id": "9bd2e78d",
   "metadata": {},
   "outputs": [],
   "source": [
    "city_mapping = {}\n",
    "idx = 0\n",
    "for i in data['City'].unique():\n",
    "    city_mapping[str(i)] = idx\n",
    "    idx += 1"
   ]
  },
  {
   "cell_type": "code",
   "execution_count": 41,
   "id": "55b5e4c8",
   "metadata": {},
   "outputs": [],
   "source": [
    "with open('../city.pkl', 'wb') as file:\n",
    "    pickle.dump(city_mapping, file)"
   ]
  },
  {
   "cell_type": "code",
   "execution_count": 42,
   "id": "483a00c0",
   "metadata": {},
   "outputs": [],
   "source": [
    "data['City'] = data['City'].map(city_mapping)"
   ]
  },
  {
   "cell_type": "code",
   "execution_count": 43,
   "id": "1e57ce3a",
   "metadata": {},
   "outputs": [
    {
     "data": {
      "text/html": [
       "<div>\n",
       "<style scoped>\n",
       "    .dataframe tbody tr th:only-of-type {\n",
       "        vertical-align: middle;\n",
       "    }\n",
       "\n",
       "    .dataframe tbody tr th {\n",
       "        vertical-align: top;\n",
       "    }\n",
       "\n",
       "    .dataframe thead th {\n",
       "        text-align: right;\n",
       "    }\n",
       "</style>\n",
       "<table border=\"1\" class=\"dataframe\">\n",
       "  <thead>\n",
       "    <tr style=\"text-align: right;\">\n",
       "      <th></th>\n",
       "      <th>Country_Code</th>\n",
       "      <th>City</th>\n",
       "      <th>Locality</th>\n",
       "      <th>Cuisines</th>\n",
       "      <th>Has Table booking</th>\n",
       "      <th>Is delivering now</th>\n",
       "      <th>Price range</th>\n",
       "      <th>Aggregate rating</th>\n",
       "      <th>Votes</th>\n",
       "      <th>Cost</th>\n",
       "    </tr>\n",
       "  </thead>\n",
       "  <tbody>\n",
       "    <tr>\n",
       "      <th>0</th>\n",
       "      <td>162</td>\n",
       "      <td>0</td>\n",
       "      <td>Century City Mall, Poblacion, Makati City</td>\n",
       "      <td>French, Japanese, Desserts</td>\n",
       "      <td>1</td>\n",
       "      <td>0</td>\n",
       "      <td>3</td>\n",
       "      <td>4.8</td>\n",
       "      <td>314</td>\n",
       "      <td>99.0</td>\n",
       "    </tr>\n",
       "    <tr>\n",
       "      <th>1</th>\n",
       "      <td>162</td>\n",
       "      <td>0</td>\n",
       "      <td>Little Tokyo, Legaspi Village, Makati City</td>\n",
       "      <td>Japanese</td>\n",
       "      <td>1</td>\n",
       "      <td>0</td>\n",
       "      <td>3</td>\n",
       "      <td>4.5</td>\n",
       "      <td>591</td>\n",
       "      <td>108.0</td>\n",
       "    </tr>\n",
       "    <tr>\n",
       "      <th>2</th>\n",
       "      <td>162</td>\n",
       "      <td>1</td>\n",
       "      <td>Edsa Shangri-La, Ortigas, Mandaluyong City</td>\n",
       "      <td>Seafood, Asian, Filipino, Indian</td>\n",
       "      <td>1</td>\n",
       "      <td>0</td>\n",
       "      <td>4</td>\n",
       "      <td>4.4</td>\n",
       "      <td>270</td>\n",
       "      <td>360.0</td>\n",
       "    </tr>\n",
       "    <tr>\n",
       "      <th>3</th>\n",
       "      <td>162</td>\n",
       "      <td>1</td>\n",
       "      <td>SM Megamall, Ortigas, Mandaluyong City</td>\n",
       "      <td>Japanese, Sushi</td>\n",
       "      <td>0</td>\n",
       "      <td>0</td>\n",
       "      <td>4</td>\n",
       "      <td>4.9</td>\n",
       "      <td>365</td>\n",
       "      <td>135.0</td>\n",
       "    </tr>\n",
       "    <tr>\n",
       "      <th>4</th>\n",
       "      <td>162</td>\n",
       "      <td>1</td>\n",
       "      <td>SM Megamall, Ortigas, Mandaluyong City</td>\n",
       "      <td>Japanese, Korean</td>\n",
       "      <td>1</td>\n",
       "      <td>0</td>\n",
       "      <td>4</td>\n",
       "      <td>4.8</td>\n",
       "      <td>229</td>\n",
       "      <td>135.0</td>\n",
       "    </tr>\n",
       "  </tbody>\n",
       "</table>\n",
       "</div>"
      ],
      "text/plain": [
       "   Country_Code  City                                    Locality  \\\n",
       "0           162     0   Century City Mall, Poblacion, Makati City   \n",
       "1           162     0  Little Tokyo, Legaspi Village, Makati City   \n",
       "2           162     1  Edsa Shangri-La, Ortigas, Mandaluyong City   \n",
       "3           162     1      SM Megamall, Ortigas, Mandaluyong City   \n",
       "4           162     1      SM Megamall, Ortigas, Mandaluyong City   \n",
       "\n",
       "                           Cuisines  Has Table booking  Is delivering now  \\\n",
       "0        French, Japanese, Desserts                  1                  0   \n",
       "1                          Japanese                  1                  0   \n",
       "2  Seafood, Asian, Filipino, Indian                  1                  0   \n",
       "3                   Japanese, Sushi                  0                  0   \n",
       "4                  Japanese, Korean                  1                  0   \n",
       "\n",
       "   Price range  Aggregate rating  Votes   Cost  \n",
       "0            3               4.8    314   99.0  \n",
       "1            3               4.5    591  108.0  \n",
       "2            4               4.4    270  360.0  \n",
       "3            4               4.9    365  135.0  \n",
       "4            4               4.8    229  135.0  "
      ]
     },
     "execution_count": 43,
     "metadata": {},
     "output_type": "execute_result"
    }
   ],
   "source": [
    "data.head()"
   ]
  },
  {
   "cell_type": "code",
   "execution_count": 44,
   "id": "4fc48682",
   "metadata": {},
   "outputs": [],
   "source": [
    "locality_cuisine = {}\n",
    "\n",
    "for i in data['Locality']:\n",
    "    locality_cuisine[i] = data[data['Locality'] == i]['Cuisines'].unique().tolist()"
   ]
  },
  {
   "cell_type": "code",
   "execution_count": 45,
   "id": "3fcd27b4",
   "metadata": {},
   "outputs": [],
   "source": [
    "with open('../localityCuisine.pkl', 'wb') as file:\n",
    "    pickle.dump(locality_cuisine, file)"
   ]
  },
  {
   "cell_type": "code",
   "execution_count": 46,
   "id": "c6968b50",
   "metadata": {},
   "outputs": [],
   "source": [
    "import json\n",
    "\n",
    "cuisines_mapping = {}\n",
    "temp = {}\n",
    "idx = 0\n",
    "for i in data['Cuisines'].unique():\n",
    "    key = json.dumps(i)\n",
    "    temp[key] = idx\n",
    "    cuisines_mapping[i] = idx\n",
    "    idx += 1"
   ]
  },
  {
   "cell_type": "code",
   "execution_count": 47,
   "id": "9eb0c737",
   "metadata": {},
   "outputs": [],
   "source": [
    "with open('../cuisine.pkl','wb') as file:\n",
    "    pickle.dump(cuisines_mapping, file)"
   ]
  },
  {
   "cell_type": "code",
   "execution_count": 48,
   "id": "e95188cd",
   "metadata": {},
   "outputs": [],
   "source": [
    "data['Cuisines'] = data['Cuisines'].map(cuisines_mapping)"
   ]
  },
  {
   "cell_type": "code",
   "execution_count": 49,
   "id": "358d90d1",
   "metadata": {},
   "outputs": [
    {
     "data": {
      "text/html": [
       "<div>\n",
       "<style scoped>\n",
       "    .dataframe tbody tr th:only-of-type {\n",
       "        vertical-align: middle;\n",
       "    }\n",
       "\n",
       "    .dataframe tbody tr th {\n",
       "        vertical-align: top;\n",
       "    }\n",
       "\n",
       "    .dataframe thead th {\n",
       "        text-align: right;\n",
       "    }\n",
       "</style>\n",
       "<table border=\"1\" class=\"dataframe\">\n",
       "  <thead>\n",
       "    <tr style=\"text-align: right;\">\n",
       "      <th></th>\n",
       "      <th>Country_Code</th>\n",
       "      <th>City</th>\n",
       "      <th>Locality</th>\n",
       "      <th>Cuisines</th>\n",
       "      <th>Has Table booking</th>\n",
       "      <th>Is delivering now</th>\n",
       "      <th>Price range</th>\n",
       "      <th>Aggregate rating</th>\n",
       "      <th>Votes</th>\n",
       "      <th>Cost</th>\n",
       "    </tr>\n",
       "  </thead>\n",
       "  <tbody>\n",
       "    <tr>\n",
       "      <th>0</th>\n",
       "      <td>162</td>\n",
       "      <td>0</td>\n",
       "      <td>Century City Mall, Poblacion, Makati City</td>\n",
       "      <td>0</td>\n",
       "      <td>1</td>\n",
       "      <td>0</td>\n",
       "      <td>3</td>\n",
       "      <td>4.8</td>\n",
       "      <td>314</td>\n",
       "      <td>99.0</td>\n",
       "    </tr>\n",
       "    <tr>\n",
       "      <th>1</th>\n",
       "      <td>162</td>\n",
       "      <td>0</td>\n",
       "      <td>Little Tokyo, Legaspi Village, Makati City</td>\n",
       "      <td>1</td>\n",
       "      <td>1</td>\n",
       "      <td>0</td>\n",
       "      <td>3</td>\n",
       "      <td>4.5</td>\n",
       "      <td>591</td>\n",
       "      <td>108.0</td>\n",
       "    </tr>\n",
       "    <tr>\n",
       "      <th>2</th>\n",
       "      <td>162</td>\n",
       "      <td>1</td>\n",
       "      <td>Edsa Shangri-La, Ortigas, Mandaluyong City</td>\n",
       "      <td>2</td>\n",
       "      <td>1</td>\n",
       "      <td>0</td>\n",
       "      <td>4</td>\n",
       "      <td>4.4</td>\n",
       "      <td>270</td>\n",
       "      <td>360.0</td>\n",
       "    </tr>\n",
       "    <tr>\n",
       "      <th>3</th>\n",
       "      <td>162</td>\n",
       "      <td>1</td>\n",
       "      <td>SM Megamall, Ortigas, Mandaluyong City</td>\n",
       "      <td>3</td>\n",
       "      <td>0</td>\n",
       "      <td>0</td>\n",
       "      <td>4</td>\n",
       "      <td>4.9</td>\n",
       "      <td>365</td>\n",
       "      <td>135.0</td>\n",
       "    </tr>\n",
       "    <tr>\n",
       "      <th>4</th>\n",
       "      <td>162</td>\n",
       "      <td>1</td>\n",
       "      <td>SM Megamall, Ortigas, Mandaluyong City</td>\n",
       "      <td>4</td>\n",
       "      <td>1</td>\n",
       "      <td>0</td>\n",
       "      <td>4</td>\n",
       "      <td>4.8</td>\n",
       "      <td>229</td>\n",
       "      <td>135.0</td>\n",
       "    </tr>\n",
       "  </tbody>\n",
       "</table>\n",
       "</div>"
      ],
      "text/plain": [
       "   Country_Code  City                                    Locality  Cuisines  \\\n",
       "0           162     0   Century City Mall, Poblacion, Makati City         0   \n",
       "1           162     0  Little Tokyo, Legaspi Village, Makati City         1   \n",
       "2           162     1  Edsa Shangri-La, Ortigas, Mandaluyong City         2   \n",
       "3           162     1      SM Megamall, Ortigas, Mandaluyong City         3   \n",
       "4           162     1      SM Megamall, Ortigas, Mandaluyong City         4   \n",
       "\n",
       "   Has Table booking  Is delivering now  Price range  Aggregate rating  Votes  \\\n",
       "0                  1                  0            3               4.8    314   \n",
       "1                  1                  0            3               4.5    591   \n",
       "2                  1                  0            4               4.4    270   \n",
       "3                  0                  0            4               4.9    365   \n",
       "4                  1                  0            4               4.8    229   \n",
       "\n",
       "    Cost  \n",
       "0   99.0  \n",
       "1  108.0  \n",
       "2  360.0  \n",
       "3  135.0  \n",
       "4  135.0  "
      ]
     },
     "execution_count": 49,
     "metadata": {},
     "output_type": "execute_result"
    }
   ],
   "source": [
    "data.head()"
   ]
  },
  {
   "cell_type": "code",
   "execution_count": 50,
   "id": "9f778e79",
   "metadata": {},
   "outputs": [
    {
     "data": {
      "text/plain": [
       "\"\\nrestaurant_mapping = {}\\ntemp = {}\\nidx = 0\\nfor i in data['Restaurant ID'].unique():\\n    restaurant_mapping[idx] = data[data['Restaurant ID'] == i][['Restaurant_Name', 'Address']].values[0].tolist()\\n    temp[i] = idx\\n    idx += 1\\n    \\nwith open('../restaurant.pkl', 'wb') as file:\\n    pickle.dump(restaurant_mapping, file)\\n    \\ndata['Restaurant ID'] = data['Restaurant ID'].map(temp)\\ndata.drop(columns = ['Restaurant_Name', 'Address'], inplace = True)\\n\""
      ]
     },
     "execution_count": 50,
     "metadata": {},
     "output_type": "execute_result"
    }
   ],
   "source": [
    "\"\"\"\n",
    "restaurant_mapping = {}\n",
    "temp = {}\n",
    "idx = 0\n",
    "for i in data['Restaurant ID'].unique():\n",
    "    restaurant_mapping[idx] = data[data['Restaurant ID'] == i][['Restaurant_Name', 'Address']].values[0].tolist()\n",
    "    temp[i] = idx\n",
    "    idx += 1\n",
    "    \n",
    "with open('../restaurant.pkl', 'wb') as file:\n",
    "    pickle.dump(restaurant_mapping, file)\n",
    "    \n",
    "data['Restaurant ID'] = data['Restaurant ID'].map(temp)\n",
    "data.drop(columns = ['Restaurant_Name', 'Address'], inplace = True)\n",
    "\"\"\""
   ]
  },
  {
   "cell_type": "code",
   "execution_count": 51,
   "id": "053fc257",
   "metadata": {},
   "outputs": [],
   "source": [
    "locality_mapping = {}\n",
    "idx = 0\n",
    "\n",
    "for i in data['Locality'].unique():\n",
    "    locality_mapping[i] = idx\n",
    "    idx += 1"
   ]
  },
  {
   "cell_type": "code",
   "execution_count": 52,
   "id": "8f55f21b",
   "metadata": {},
   "outputs": [],
   "source": [
    "data['Locality'] = data['Locality'].map(locality_mapping)"
   ]
  },
  {
   "cell_type": "code",
   "execution_count": 53,
   "id": "fea0a3b9",
   "metadata": {},
   "outputs": [
    {
     "data": {
      "text/html": [
       "<div>\n",
       "<style scoped>\n",
       "    .dataframe tbody tr th:only-of-type {\n",
       "        vertical-align: middle;\n",
       "    }\n",
       "\n",
       "    .dataframe tbody tr th {\n",
       "        vertical-align: top;\n",
       "    }\n",
       "\n",
       "    .dataframe thead th {\n",
       "        text-align: right;\n",
       "    }\n",
       "</style>\n",
       "<table border=\"1\" class=\"dataframe\">\n",
       "  <thead>\n",
       "    <tr style=\"text-align: right;\">\n",
       "      <th></th>\n",
       "      <th>Country_Code</th>\n",
       "      <th>City</th>\n",
       "      <th>Locality</th>\n",
       "      <th>Cuisines</th>\n",
       "      <th>Has Table booking</th>\n",
       "      <th>Is delivering now</th>\n",
       "      <th>Price range</th>\n",
       "      <th>Aggregate rating</th>\n",
       "      <th>Votes</th>\n",
       "      <th>Cost</th>\n",
       "    </tr>\n",
       "  </thead>\n",
       "  <tbody>\n",
       "    <tr>\n",
       "      <th>0</th>\n",
       "      <td>162</td>\n",
       "      <td>0</td>\n",
       "      <td>0</td>\n",
       "      <td>0</td>\n",
       "      <td>1</td>\n",
       "      <td>0</td>\n",
       "      <td>3</td>\n",
       "      <td>4.8</td>\n",
       "      <td>314</td>\n",
       "      <td>99.0</td>\n",
       "    </tr>\n",
       "    <tr>\n",
       "      <th>1</th>\n",
       "      <td>162</td>\n",
       "      <td>0</td>\n",
       "      <td>1</td>\n",
       "      <td>1</td>\n",
       "      <td>1</td>\n",
       "      <td>0</td>\n",
       "      <td>3</td>\n",
       "      <td>4.5</td>\n",
       "      <td>591</td>\n",
       "      <td>108.0</td>\n",
       "    </tr>\n",
       "    <tr>\n",
       "      <th>2</th>\n",
       "      <td>162</td>\n",
       "      <td>1</td>\n",
       "      <td>2</td>\n",
       "      <td>2</td>\n",
       "      <td>1</td>\n",
       "      <td>0</td>\n",
       "      <td>4</td>\n",
       "      <td>4.4</td>\n",
       "      <td>270</td>\n",
       "      <td>360.0</td>\n",
       "    </tr>\n",
       "    <tr>\n",
       "      <th>3</th>\n",
       "      <td>162</td>\n",
       "      <td>1</td>\n",
       "      <td>3</td>\n",
       "      <td>3</td>\n",
       "      <td>0</td>\n",
       "      <td>0</td>\n",
       "      <td>4</td>\n",
       "      <td>4.9</td>\n",
       "      <td>365</td>\n",
       "      <td>135.0</td>\n",
       "    </tr>\n",
       "    <tr>\n",
       "      <th>4</th>\n",
       "      <td>162</td>\n",
       "      <td>1</td>\n",
       "      <td>3</td>\n",
       "      <td>4</td>\n",
       "      <td>1</td>\n",
       "      <td>0</td>\n",
       "      <td>4</td>\n",
       "      <td>4.8</td>\n",
       "      <td>229</td>\n",
       "      <td>135.0</td>\n",
       "    </tr>\n",
       "  </tbody>\n",
       "</table>\n",
       "</div>"
      ],
      "text/plain": [
       "   Country_Code  City  Locality  Cuisines  Has Table booking  \\\n",
       "0           162     0         0         0                  1   \n",
       "1           162     0         1         1                  1   \n",
       "2           162     1         2         2                  1   \n",
       "3           162     1         3         3                  0   \n",
       "4           162     1         3         4                  1   \n",
       "\n",
       "   Is delivering now  Price range  Aggregate rating  Votes   Cost  \n",
       "0                  0            3               4.8    314   99.0  \n",
       "1                  0            3               4.5    591  108.0  \n",
       "2                  0            4               4.4    270  360.0  \n",
       "3                  0            4               4.9    365  135.0  \n",
       "4                  0            4               4.8    229  135.0  "
      ]
     },
     "execution_count": 53,
     "metadata": {},
     "output_type": "execute_result"
    }
   ],
   "source": [
    "data.head()"
   ]
  },
  {
   "cell_type": "code",
   "execution_count": 54,
   "id": "85970cdd",
   "metadata": {},
   "outputs": [],
   "source": [
    "with open('../locality.pkl', 'wb') as file:\n",
    "    pickle.dump(locality_mapping, file)"
   ]
  },
  {
   "cell_type": "code",
   "execution_count": 89,
   "id": "81a152e8",
   "metadata": {},
   "outputs": [
    {
     "data": {
      "text/html": [
       "<div>\n",
       "<style scoped>\n",
       "    .dataframe tbody tr th:only-of-type {\n",
       "        vertical-align: middle;\n",
       "    }\n",
       "\n",
       "    .dataframe tbody tr th {\n",
       "        vertical-align: top;\n",
       "    }\n",
       "\n",
       "    .dataframe thead th {\n",
       "        text-align: right;\n",
       "    }\n",
       "</style>\n",
       "<table border=\"1\" class=\"dataframe\">\n",
       "  <thead>\n",
       "    <tr style=\"text-align: right;\">\n",
       "      <th></th>\n",
       "      <th>Country_Code</th>\n",
       "      <th>City</th>\n",
       "      <th>Locality</th>\n",
       "      <th>Cuisines</th>\n",
       "      <th>Has Table booking</th>\n",
       "      <th>Is delivering now</th>\n",
       "      <th>Price range</th>\n",
       "      <th>Aggregate rating</th>\n",
       "      <th>Votes</th>\n",
       "      <th>Cost</th>\n",
       "    </tr>\n",
       "  </thead>\n",
       "  <tbody>\n",
       "    <tr>\n",
       "      <th>0</th>\n",
       "      <td>162</td>\n",
       "      <td>0</td>\n",
       "      <td>0</td>\n",
       "      <td>0</td>\n",
       "      <td>1</td>\n",
       "      <td>0</td>\n",
       "      <td>3</td>\n",
       "      <td>4.8</td>\n",
       "      <td>314</td>\n",
       "      <td>99.0</td>\n",
       "    </tr>\n",
       "    <tr>\n",
       "      <th>1</th>\n",
       "      <td>162</td>\n",
       "      <td>0</td>\n",
       "      <td>1</td>\n",
       "      <td>1</td>\n",
       "      <td>1</td>\n",
       "      <td>0</td>\n",
       "      <td>3</td>\n",
       "      <td>4.5</td>\n",
       "      <td>591</td>\n",
       "      <td>108.0</td>\n",
       "    </tr>\n",
       "    <tr>\n",
       "      <th>2</th>\n",
       "      <td>162</td>\n",
       "      <td>1</td>\n",
       "      <td>2</td>\n",
       "      <td>2</td>\n",
       "      <td>1</td>\n",
       "      <td>0</td>\n",
       "      <td>4</td>\n",
       "      <td>4.4</td>\n",
       "      <td>270</td>\n",
       "      <td>360.0</td>\n",
       "    </tr>\n",
       "    <tr>\n",
       "      <th>3</th>\n",
       "      <td>162</td>\n",
       "      <td>1</td>\n",
       "      <td>3</td>\n",
       "      <td>3</td>\n",
       "      <td>0</td>\n",
       "      <td>0</td>\n",
       "      <td>4</td>\n",
       "      <td>4.9</td>\n",
       "      <td>365</td>\n",
       "      <td>135.0</td>\n",
       "    </tr>\n",
       "    <tr>\n",
       "      <th>4</th>\n",
       "      <td>162</td>\n",
       "      <td>1</td>\n",
       "      <td>3</td>\n",
       "      <td>4</td>\n",
       "      <td>1</td>\n",
       "      <td>0</td>\n",
       "      <td>4</td>\n",
       "      <td>4.8</td>\n",
       "      <td>229</td>\n",
       "      <td>135.0</td>\n",
       "    </tr>\n",
       "  </tbody>\n",
       "</table>\n",
       "</div>"
      ],
      "text/plain": [
       "   Country_Code  City  Locality  Cuisines  Has Table booking  \\\n",
       "0           162     0         0         0                  1   \n",
       "1           162     0         1         1                  1   \n",
       "2           162     1         2         2                  1   \n",
       "3           162     1         3         3                  0   \n",
       "4           162     1         3         4                  1   \n",
       "\n",
       "   Is delivering now  Price range  Aggregate rating  Votes   Cost  \n",
       "0                  0            3               4.8    314   99.0  \n",
       "1                  0            3               4.5    591  108.0  \n",
       "2                  0            4               4.4    270  360.0  \n",
       "3                  0            4               4.9    365  135.0  \n",
       "4                  0            4               4.8    229  135.0  "
      ]
     },
     "execution_count": 89,
     "metadata": {},
     "output_type": "execute_result"
    }
   ],
   "source": [
    "data.head()"
   ]
  },
  {
   "cell_type": "code",
   "execution_count": 90,
   "id": "151abcb6",
   "metadata": {},
   "outputs": [
    {
     "data": {
      "text/plain": [
       "count     9551.000000\n",
       "mean       156.909748\n",
       "std        430.169145\n",
       "min          0.000000\n",
       "25%          5.000000\n",
       "50%         31.000000\n",
       "75%        131.000000\n",
       "max      10934.000000\n",
       "Name: Votes, dtype: float64"
      ]
     },
     "execution_count": 90,
     "metadata": {},
     "output_type": "execute_result"
    }
   ],
   "source": [
    "data['Votes'].describe()"
   ]
  },
  {
   "cell_type": "code",
   "execution_count": 91,
   "id": "7eff8b57",
   "metadata": {},
   "outputs": [],
   "source": [
    "x = data.drop(columns = ['Cost'])"
   ]
  },
  {
   "cell_type": "code",
   "execution_count": 92,
   "id": "c15dcd5f",
   "metadata": {},
   "outputs": [],
   "source": [
    "y = data['Cost']"
   ]
  },
  {
   "cell_type": "code",
   "execution_count": 93,
   "id": "045e77db",
   "metadata": {},
   "outputs": [],
   "source": [
    "from sklearn.preprocessing import MinMaxScaler\n",
    "\n",
    "scaler = MinMaxScaler()\n",
    "\n",
    "x_normalized = scaler.fit_transform(x)\n",
    "\n",
    "x = pd.DataFrame(x_normalized, columns=x.columns)"
   ]
  },
  {
   "cell_type": "code",
   "execution_count": 94,
   "id": "2a3dfb4a",
   "metadata": {},
   "outputs": [],
   "source": [
    "from sklearn.model_selection import train_test_split"
   ]
  },
  {
   "cell_type": "code",
   "execution_count": 95,
   "id": "f6ddb978",
   "metadata": {},
   "outputs": [],
   "source": [
    "x_train, x_test, y_train, y_test = train_test_split(x, y, test_size = 0.2, random_state = 12)"
   ]
  },
  {
   "cell_type": "code",
   "execution_count": 96,
   "id": "816072de",
   "metadata": {},
   "outputs": [
    {
     "data": {
      "text/plain": [
       "3721    26.6\n",
       "2200     4.2\n",
       "2220     2.8\n",
       "5868     4.9\n",
       "8878    14.0\n",
       "Name: Cost, dtype: float64"
      ]
     },
     "execution_count": 96,
     "metadata": {},
     "output_type": "execute_result"
    }
   ],
   "source": [
    "y_train.head()"
   ]
  },
  {
   "cell_type": "code",
   "execution_count": 97,
   "id": "c241b243",
   "metadata": {},
   "outputs": [
    {
     "data": {
      "text/html": [
       "<div>\n",
       "<style scoped>\n",
       "    .dataframe tbody tr th:only-of-type {\n",
       "        vertical-align: middle;\n",
       "    }\n",
       "\n",
       "    .dataframe tbody tr th {\n",
       "        vertical-align: top;\n",
       "    }\n",
       "\n",
       "    .dataframe thead th {\n",
       "        text-align: right;\n",
       "    }\n",
       "</style>\n",
       "<table border=\"1\" class=\"dataframe\">\n",
       "  <thead>\n",
       "    <tr style=\"text-align: right;\">\n",
       "      <th></th>\n",
       "      <th>Country_Code</th>\n",
       "      <th>City</th>\n",
       "      <th>Locality</th>\n",
       "      <th>Cuisines</th>\n",
       "      <th>Has Table booking</th>\n",
       "      <th>Is delivering now</th>\n",
       "      <th>Price range</th>\n",
       "      <th>Aggregate rating</th>\n",
       "      <th>Votes</th>\n",
       "    </tr>\n",
       "  </thead>\n",
       "  <tbody>\n",
       "    <tr>\n",
       "      <th>3721</th>\n",
       "      <td>0.0</td>\n",
       "      <td>0.778571</td>\n",
       "      <td>0.586578</td>\n",
       "      <td>0.190789</td>\n",
       "      <td>1.0</td>\n",
       "      <td>0.0</td>\n",
       "      <td>0.666667</td>\n",
       "      <td>0.673469</td>\n",
       "      <td>0.013536</td>\n",
       "    </tr>\n",
       "    <tr>\n",
       "      <th>2200</th>\n",
       "      <td>0.0</td>\n",
       "      <td>0.664286</td>\n",
       "      <td>0.410936</td>\n",
       "      <td>0.033443</td>\n",
       "      <td>0.0</td>\n",
       "      <td>0.0</td>\n",
       "      <td>0.000000</td>\n",
       "      <td>0.000000</td>\n",
       "      <td>0.000000</td>\n",
       "    </tr>\n",
       "    <tr>\n",
       "      <th>2220</th>\n",
       "      <td>0.0</td>\n",
       "      <td>0.664286</td>\n",
       "      <td>0.410936</td>\n",
       "      <td>0.033443</td>\n",
       "      <td>0.0</td>\n",
       "      <td>0.0</td>\n",
       "      <td>0.000000</td>\n",
       "      <td>0.000000</td>\n",
       "      <td>0.000000</td>\n",
       "    </tr>\n",
       "    <tr>\n",
       "      <th>5868</th>\n",
       "      <td>0.0</td>\n",
       "      <td>0.778571</td>\n",
       "      <td>0.654515</td>\n",
       "      <td>0.586623</td>\n",
       "      <td>0.0</td>\n",
       "      <td>0.0</td>\n",
       "      <td>0.000000</td>\n",
       "      <td>0.693878</td>\n",
       "      <td>0.007682</td>\n",
       "    </tr>\n",
       "    <tr>\n",
       "      <th>8878</th>\n",
       "      <td>0.0</td>\n",
       "      <td>0.785714</td>\n",
       "      <td>0.775476</td>\n",
       "      <td>0.007675</td>\n",
       "      <td>0.0</td>\n",
       "      <td>0.0</td>\n",
       "      <td>0.666667</td>\n",
       "      <td>0.632653</td>\n",
       "      <td>0.013444</td>\n",
       "    </tr>\n",
       "  </tbody>\n",
       "</table>\n",
       "</div>"
      ],
      "text/plain": [
       "      Country_Code      City  Locality  Cuisines  Has Table booking  \\\n",
       "3721           0.0  0.778571  0.586578  0.190789                1.0   \n",
       "2200           0.0  0.664286  0.410936  0.033443                0.0   \n",
       "2220           0.0  0.664286  0.410936  0.033443                0.0   \n",
       "5868           0.0  0.778571  0.654515  0.586623                0.0   \n",
       "8878           0.0  0.785714  0.775476  0.007675                0.0   \n",
       "\n",
       "      Is delivering now  Price range  Aggregate rating     Votes  \n",
       "3721                0.0     0.666667          0.673469  0.013536  \n",
       "2200                0.0     0.000000          0.000000  0.000000  \n",
       "2220                0.0     0.000000          0.000000  0.000000  \n",
       "5868                0.0     0.000000          0.693878  0.007682  \n",
       "8878                0.0     0.666667          0.632653  0.013444  "
      ]
     },
     "execution_count": 97,
     "metadata": {},
     "output_type": "execute_result"
    }
   ],
   "source": [
    "x_train.head()"
   ]
  },
  {
   "cell_type": "code",
   "execution_count": 98,
   "id": "f63beb4a",
   "metadata": {},
   "outputs": [
    {
     "data": {
      "text/plain": [
       "0.4707525795072077"
      ]
     },
     "execution_count": 98,
     "metadata": {},
     "output_type": "execute_result"
    }
   ],
   "source": [
    "#Linear Regression\n",
    "\n",
    "from sklearn.linear_model import LinearRegression\n",
    "from sklearn.metrics import r2_score\n",
    "\n",
    "lr = LinearRegression()\n",
    "lr.fit(x_train, y_train)\n",
    "\n",
    "y_pred = lr.predict(x_test)\n",
    "\n",
    "r2_score(y_test, y_pred)"
   ]
  },
  {
   "cell_type": "code",
   "execution_count": 99,
   "id": "80a28ef4",
   "metadata": {},
   "outputs": [
    {
     "data": {
      "text/plain": [
       "0.5119907125175596"
      ]
     },
     "execution_count": 99,
     "metadata": {},
     "output_type": "execute_result"
    }
   ],
   "source": [
    "#Decision Tree\n",
    "\n",
    "from sklearn.tree import DecisionTreeRegressor\n",
    "\n",
    "dt = DecisionTreeRegressor()\n",
    "\n",
    "dt.fit(x_train, y_train)\n",
    "y_pred = dt.predict(x_test)\n",
    "\n",
    "r2_score(y_test, y_pred)"
   ]
  },
  {
   "cell_type": "code",
   "execution_count": 100,
   "id": "0a97d46d",
   "metadata": {},
   "outputs": [
    {
     "data": {
      "text/plain": [
       "0.822165663270345"
      ]
     },
     "execution_count": 100,
     "metadata": {},
     "output_type": "execute_result"
    }
   ],
   "source": [
    "#Decision Tree Hypertuning\n",
    "\n",
    "from sklearn.tree import DecisionTreeRegressor\n",
    "from sklearn.model_selection import train_test_split, GridSearchCV\n",
    "\n",
    "regressor1 = DecisionTreeRegressor()\n",
    "\n",
    "param_grid = {\n",
    "    'max_depth': [None, 5, 10],\n",
    "    'min_samples_split': [2, 5, 10],\n",
    "    'min_samples_leaf': [1, 2, 4]\n",
    "}\n",
    "\n",
    "grid_search = GridSearchCV(regressor1, param_grid, cv=5)\n",
    "grid_search.fit(x_train, y_train)\n",
    "\n",
    "best_params = grid_search.best_params_\n",
    "\n",
    "best_regressor1 = DecisionTreeRegressor(**best_params)\n",
    "best_regressor1.fit(x_train, y_train)\n",
    "\n",
    "y_pred = best_regressor1.predict(x_test)\n",
    "\n",
    "r2_score(y_test, y_pred)"
   ]
  },
  {
   "cell_type": "code",
   "execution_count": 101,
   "id": "ef5a43b3",
   "metadata": {},
   "outputs": [
    {
     "data": {
      "text/plain": [
       "0.787796626599872"
      ]
     },
     "execution_count": 101,
     "metadata": {},
     "output_type": "execute_result"
    }
   ],
   "source": [
    "#Random Forest\n",
    "\n",
    "from sklearn.ensemble import RandomForestRegressor\n",
    "\n",
    "rf_reg = RandomForestRegressor()\n",
    "rf_reg.fit(x_train, y_train)\n",
    "\n",
    "y_pred = rf_reg.predict(x_test)\n",
    "\n",
    "r2_score(y_test, y_pred)"
   ]
  },
  {
   "cell_type": "code",
   "execution_count": 102,
   "id": "b2871c2c",
   "metadata": {},
   "outputs": [
    {
     "data": {
      "text/plain": [
       "0.8333969818121509"
      ]
     },
     "execution_count": 102,
     "metadata": {},
     "output_type": "execute_result"
    }
   ],
   "source": [
    "#Random Forest Hypertuned\n",
    "\n",
    "from sklearn.ensemble import RandomForestRegressor\n",
    "from sklearn.model_selection import GridSearchCV\n",
    "\n",
    "param_grid = {\n",
    "    'n_estimators': [100, 200, 300],\n",
    "    'max_depth': [None, 5, 10],\n",
    "    'min_samples_split': [2, 5, 10],\n",
    "    'min_samples_leaf': [1, 2, 4]\n",
    "}\n",
    "\n",
    "rf = RandomForestRegressor()\n",
    "\n",
    "rf = GridSearchCV(rf, param_grid, cv=5)\n",
    "rf.fit(x_train, y_train)\n",
    "\n",
    "best_params = rf.best_params_\n",
    "\n",
    "y_pred = rf.predict(x_test)\n",
    "\n",
    "r2_score(y_test, y_pred)"
   ]
  },
  {
   "cell_type": "code",
   "execution_count": 103,
   "id": "693a25dd",
   "metadata": {},
   "outputs": [
    {
     "data": {
      "text/plain": [
       "0.5916444901709359"
      ]
     },
     "execution_count": 103,
     "metadata": {},
     "output_type": "execute_result"
    }
   ],
   "source": [
    "#SVR\n",
    "\n",
    "from sklearn.model_selection import train_test_split, GridSearchCV\n",
    "from sklearn.svm import SVR\n",
    "\n",
    "param_grid = {\n",
    "    'kernel': ['linear', 'rbf'],\n",
    "    'C': [0.1, 1, 10],\n",
    "    'gamma': [0.1, 1, 'scale', 'auto']\n",
    "}\n",
    "\n",
    "regressor = SVR()\n",
    "\n",
    "grid_search = GridSearchCV(regressor, param_grid, cv=5, scoring='neg_mean_squared_error')\n",
    "grid_search.fit(x_train, y_train)\n",
    "\n",
    "best_regressor = grid_search.best_estimator_\n",
    "y_pred = best_regressor.predict(x_test)\n",
    "\n",
    "r2_score(y_test, y_pred)"
   ]
  },
  {
   "cell_type": "code",
   "execution_count": 104,
   "id": "c2150359",
   "metadata": {},
   "outputs": [
    {
     "data": {
      "text/plain": [
       "0.7993085896796243"
      ]
     },
     "execution_count": 104,
     "metadata": {},
     "output_type": "execute_result"
    }
   ],
   "source": [
    "#Gradient Boosting\n",
    "\n",
    "from sklearn.ensemble import GradientBoostingRegressor\n",
    "\n",
    "gb_reg = GradientBoostingRegressor()\n",
    "\n",
    "gb_reg.fit(x_train, y_train)\n",
    "y_pred = gb_reg.predict(x_test)\n",
    "\n",
    "r2_score(y_test, y_pred)"
   ]
  },
  {
   "cell_type": "code",
   "execution_count": 105,
   "id": "3b4ac002",
   "metadata": {},
   "outputs": [],
   "source": [
    "path = '../model.pkl'"
   ]
  },
  {
   "cell_type": "code",
   "execution_count": 106,
   "id": "a4af3b58",
   "metadata": {},
   "outputs": [],
   "source": [
    "import pickle"
   ]
  },
  {
   "cell_type": "code",
   "execution_count": 107,
   "id": "8892f7e9",
   "metadata": {},
   "outputs": [],
   "source": [
    "with open(path, 'wb') as file:\n",
    "    pickle.dump(rf, file)"
   ]
  }
 ],
 "metadata": {
  "kernelspec": {
   "display_name": "Python 3 (ipykernel)",
   "language": "python",
   "name": "python3"
  },
  "language_info": {
   "codemirror_mode": {
    "name": "ipython",
    "version": 3
   },
   "file_extension": ".py",
   "mimetype": "text/x-python",
   "name": "python",
   "nbconvert_exporter": "python",
   "pygments_lexer": "ipython3",
   "version": "3.9.12"
  }
 },
 "nbformat": 4,
 "nbformat_minor": 5
}
